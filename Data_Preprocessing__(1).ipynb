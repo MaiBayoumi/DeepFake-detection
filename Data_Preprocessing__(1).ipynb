{
  "nbformat": 4,
  "nbformat_minor": 0,
  "metadata": {
    "colab": {
      "provenance": []
    },
    "kernelspec": {
      "name": "python3",
      "display_name": "Python 3"
    },
    "language_info": {
      "name": "python"
    },
    "accelerator": "GPU",
    "gpuClass": "standard",
    "widgets": {
      "application/vnd.jupyter.widget-state+json": {
        "91b6eede95444c17af9e9db77df663a3": {
          "model_module": "@jupyter-widgets/controls",
          "model_name": "HBoxModel",
          "model_module_version": "1.5.0",
          "state": {
            "_dom_classes": [],
            "_model_module": "@jupyter-widgets/controls",
            "_model_module_version": "1.5.0",
            "_model_name": "HBoxModel",
            "_view_count": null,
            "_view_module": "@jupyter-widgets/controls",
            "_view_module_version": "1.5.0",
            "_view_name": "HBoxView",
            "box_style": "",
            "children": [
              "IPY_MODEL_2f57edff6169453db507ec756333e99c",
              "IPY_MODEL_bf56ddbf199147beae8d2d6a19b7e287",
              "IPY_MODEL_dc564af2483a4f9289732b1025588a15"
            ],
            "layout": "IPY_MODEL_779597dc435d48438e39e4e7786ce16d"
          }
        },
        "2f57edff6169453db507ec756333e99c": {
          "model_module": "@jupyter-widgets/controls",
          "model_name": "HTMLModel",
          "model_module_version": "1.5.0",
          "state": {
            "_dom_classes": [],
            "_model_module": "@jupyter-widgets/controls",
            "_model_module_version": "1.5.0",
            "_model_name": "HTMLModel",
            "_view_count": null,
            "_view_module": "@jupyter-widgets/controls",
            "_view_module_version": "1.5.0",
            "_view_name": "HTMLView",
            "description": "",
            "description_tooltip": null,
            "layout": "IPY_MODEL_b2df1948d2314fb087800a64a8ae7a38",
            "placeholder": "​",
            "style": "IPY_MODEL_8306a5fd7fb34bc8aed354cc4794e055",
            "value": " 78%"
          }
        },
        "bf56ddbf199147beae8d2d6a19b7e287": {
          "model_module": "@jupyter-widgets/controls",
          "model_name": "FloatProgressModel",
          "model_module_version": "1.5.0",
          "state": {
            "_dom_classes": [],
            "_model_module": "@jupyter-widgets/controls",
            "_model_module_version": "1.5.0",
            "_model_name": "FloatProgressModel",
            "_view_count": null,
            "_view_module": "@jupyter-widgets/controls",
            "_view_module_version": "1.5.0",
            "_view_name": "ProgressView",
            "bar_style": "",
            "description": "",
            "description_tooltip": null,
            "layout": "IPY_MODEL_337bd45c1e784eea894ab1915908c811",
            "max": 10122,
            "min": 0,
            "orientation": "horizontal",
            "style": "IPY_MODEL_92fd1a0aa5ca4ad7abd085fb6744a7a6",
            "value": 7912
          }
        },
        "dc564af2483a4f9289732b1025588a15": {
          "model_module": "@jupyter-widgets/controls",
          "model_name": "HTMLModel",
          "model_module_version": "1.5.0",
          "state": {
            "_dom_classes": [],
            "_model_module": "@jupyter-widgets/controls",
            "_model_module_version": "1.5.0",
            "_model_name": "HTMLModel",
            "_view_count": null,
            "_view_module": "@jupyter-widgets/controls",
            "_view_module_version": "1.5.0",
            "_view_name": "HTMLView",
            "description": "",
            "description_tooltip": null,
            "layout": "IPY_MODEL_01c32110879e4dc4b809205f0bb70d77",
            "placeholder": "​",
            "style": "IPY_MODEL_55b253201d924157a2ddf4a7323014af",
            "value": " 7912/10122 [2:20:43&lt;44:18,  1.20s/it]"
          }
        },
        "779597dc435d48438e39e4e7786ce16d": {
          "model_module": "@jupyter-widgets/base",
          "model_name": "LayoutModel",
          "model_module_version": "1.2.0",
          "state": {
            "_model_module": "@jupyter-widgets/base",
            "_model_module_version": "1.2.0",
            "_model_name": "LayoutModel",
            "_view_count": null,
            "_view_module": "@jupyter-widgets/base",
            "_view_module_version": "1.2.0",
            "_view_name": "LayoutView",
            "align_content": null,
            "align_items": null,
            "align_self": null,
            "border": null,
            "bottom": null,
            "display": null,
            "flex": null,
            "flex_flow": null,
            "grid_area": null,
            "grid_auto_columns": null,
            "grid_auto_flow": null,
            "grid_auto_rows": null,
            "grid_column": null,
            "grid_gap": null,
            "grid_row": null,
            "grid_template_areas": null,
            "grid_template_columns": null,
            "grid_template_rows": null,
            "height": null,
            "justify_content": null,
            "justify_items": null,
            "left": null,
            "margin": null,
            "max_height": null,
            "max_width": null,
            "min_height": null,
            "min_width": null,
            "object_fit": null,
            "object_position": null,
            "order": null,
            "overflow": null,
            "overflow_x": null,
            "overflow_y": null,
            "padding": null,
            "right": null,
            "top": null,
            "visibility": null,
            "width": null
          }
        },
        "b2df1948d2314fb087800a64a8ae7a38": {
          "model_module": "@jupyter-widgets/base",
          "model_name": "LayoutModel",
          "model_module_version": "1.2.0",
          "state": {
            "_model_module": "@jupyter-widgets/base",
            "_model_module_version": "1.2.0",
            "_model_name": "LayoutModel",
            "_view_count": null,
            "_view_module": "@jupyter-widgets/base",
            "_view_module_version": "1.2.0",
            "_view_name": "LayoutView",
            "align_content": null,
            "align_items": null,
            "align_self": null,
            "border": null,
            "bottom": null,
            "display": null,
            "flex": null,
            "flex_flow": null,
            "grid_area": null,
            "grid_auto_columns": null,
            "grid_auto_flow": null,
            "grid_auto_rows": null,
            "grid_column": null,
            "grid_gap": null,
            "grid_row": null,
            "grid_template_areas": null,
            "grid_template_columns": null,
            "grid_template_rows": null,
            "height": null,
            "justify_content": null,
            "justify_items": null,
            "left": null,
            "margin": null,
            "max_height": null,
            "max_width": null,
            "min_height": null,
            "min_width": null,
            "object_fit": null,
            "object_position": null,
            "order": null,
            "overflow": null,
            "overflow_x": null,
            "overflow_y": null,
            "padding": null,
            "right": null,
            "top": null,
            "visibility": null,
            "width": null
          }
        },
        "8306a5fd7fb34bc8aed354cc4794e055": {
          "model_module": "@jupyter-widgets/controls",
          "model_name": "DescriptionStyleModel",
          "model_module_version": "1.5.0",
          "state": {
            "_model_module": "@jupyter-widgets/controls",
            "_model_module_version": "1.5.0",
            "_model_name": "DescriptionStyleModel",
            "_view_count": null,
            "_view_module": "@jupyter-widgets/base",
            "_view_module_version": "1.2.0",
            "_view_name": "StyleView",
            "description_width": ""
          }
        },
        "337bd45c1e784eea894ab1915908c811": {
          "model_module": "@jupyter-widgets/base",
          "model_name": "LayoutModel",
          "model_module_version": "1.2.0",
          "state": {
            "_model_module": "@jupyter-widgets/base",
            "_model_module_version": "1.2.0",
            "_model_name": "LayoutModel",
            "_view_count": null,
            "_view_module": "@jupyter-widgets/base",
            "_view_module_version": "1.2.0",
            "_view_name": "LayoutView",
            "align_content": null,
            "align_items": null,
            "align_self": null,
            "border": null,
            "bottom": null,
            "display": null,
            "flex": null,
            "flex_flow": null,
            "grid_area": null,
            "grid_auto_columns": null,
            "grid_auto_flow": null,
            "grid_auto_rows": null,
            "grid_column": null,
            "grid_gap": null,
            "grid_row": null,
            "grid_template_areas": null,
            "grid_template_columns": null,
            "grid_template_rows": null,
            "height": null,
            "justify_content": null,
            "justify_items": null,
            "left": null,
            "margin": null,
            "max_height": null,
            "max_width": null,
            "min_height": null,
            "min_width": null,
            "object_fit": null,
            "object_position": null,
            "order": null,
            "overflow": null,
            "overflow_x": null,
            "overflow_y": null,
            "padding": null,
            "right": null,
            "top": null,
            "visibility": null,
            "width": null
          }
        },
        "92fd1a0aa5ca4ad7abd085fb6744a7a6": {
          "model_module": "@jupyter-widgets/controls",
          "model_name": "ProgressStyleModel",
          "model_module_version": "1.5.0",
          "state": {
            "_model_module": "@jupyter-widgets/controls",
            "_model_module_version": "1.5.0",
            "_model_name": "ProgressStyleModel",
            "_view_count": null,
            "_view_module": "@jupyter-widgets/base",
            "_view_module_version": "1.2.0",
            "_view_name": "StyleView",
            "bar_color": null,
            "description_width": ""
          }
        },
        "01c32110879e4dc4b809205f0bb70d77": {
          "model_module": "@jupyter-widgets/base",
          "model_name": "LayoutModel",
          "model_module_version": "1.2.0",
          "state": {
            "_model_module": "@jupyter-widgets/base",
            "_model_module_version": "1.2.0",
            "_model_name": "LayoutModel",
            "_view_count": null,
            "_view_module": "@jupyter-widgets/base",
            "_view_module_version": "1.2.0",
            "_view_name": "LayoutView",
            "align_content": null,
            "align_items": null,
            "align_self": null,
            "border": null,
            "bottom": null,
            "display": null,
            "flex": null,
            "flex_flow": null,
            "grid_area": null,
            "grid_auto_columns": null,
            "grid_auto_flow": null,
            "grid_auto_rows": null,
            "grid_column": null,
            "grid_gap": null,
            "grid_row": null,
            "grid_template_areas": null,
            "grid_template_columns": null,
            "grid_template_rows": null,
            "height": null,
            "justify_content": null,
            "justify_items": null,
            "left": null,
            "margin": null,
            "max_height": null,
            "max_width": null,
            "min_height": null,
            "min_width": null,
            "object_fit": null,
            "object_position": null,
            "order": null,
            "overflow": null,
            "overflow_x": null,
            "overflow_y": null,
            "padding": null,
            "right": null,
            "top": null,
            "visibility": null,
            "width": null
          }
        },
        "55b253201d924157a2ddf4a7323014af": {
          "model_module": "@jupyter-widgets/controls",
          "model_name": "DescriptionStyleModel",
          "model_module_version": "1.5.0",
          "state": {
            "_model_module": "@jupyter-widgets/controls",
            "_model_module_version": "1.5.0",
            "_model_name": "DescriptionStyleModel",
            "_view_count": null,
            "_view_module": "@jupyter-widgets/base",
            "_view_module_version": "1.2.0",
            "_view_name": "StyleView",
            "description_width": ""
          }
        }
      }
    }
  },
  "cells": [
    {
      "cell_type": "code",
      "source": [
        "%%capture\n",
        "!pip install opendatasets\n",
        "!pip install imutils\n",
        "!pip install facenet_pytorch"
      ],
      "metadata": {
        "id": "ZYFGdZ9xyN3Y"
      },
      "execution_count": null,
      "outputs": []
    },
    {
      "cell_type": "code",
      "execution_count": null,
      "metadata": {
        "id": "R2xnISBGyDiG"
      },
      "outputs": [],
      "source": [
        "import opendatasets as od\n",
        "import zipfile, urllib.request, shutil, requests\n",
        "import numpy as np\n",
        "import pandas as pd\n",
        "import os\n",
        "from pathlib import Path\n",
        "import IPython\n",
        "import cv2\n",
        "import matplotlib.pyplot as plt\n",
        "import matplotlib.cbook as cbook\n",
        "import matplotlib.image as image\n",
        "from tqdm import tqdm\n",
        "from tqdm.notebook import tqdm\n",
        "tqdm.pandas()\n",
        "import glob\n",
        "from PIL import Image\n",
        "from imutils.video import FileVideoStream\n",
        "import time\n",
        "import torch\n",
        "from facenet_pytorch import MTCNN\n",
        "import warnings\n",
        "warnings.filterwarnings(\"ignore\", category=FutureWarning)"
      ]
    },
    {
      "cell_type": "code",
      "source": [
        "from google.colab import drive\n",
        "drive.mount('/content/drive')"
      ],
      "metadata": {
        "id": "Vrv2DXd0zXYO"
      },
      "execution_count": null,
      "outputs": []
    },
    {
      "cell_type": "code",
      "source": [
        "os.mkdir('/content/data')\n",
        "os.mkdir('/content/train')"
      ],
      "metadata": {
        "id": "67OtUw2tyRqH"
      },
      "execution_count": null,
      "outputs": []
    },
    {
      "cell_type": "code",
      "source": [
        "#links of the data parts to be downlaoded\n",
        "parts = [\n",
        "    'https://storage.googleapis.com/kaggle-competitions-detached-data/16880/dfdc_train_part_24.zip?GoogleAccessId=web-data@kaggle-161607.iam.gserviceaccount.com&Expires=1679572683&Signature=hBvVDvt7gGK26Hc7gDYkqYmw1LPM3QA7SyP%2B04MZmLxGMYqmHJTVm07Mi23um4uyX55PO0zHuMGPUkSiKrWFs4q6ZwHhjD7YTB%2FdKQiVnBqen4NvB58LLaDzQaEzirzLvIMVqWiL9T6dczDeerFe4f7c%2BNiFzAOei00aFOkzwrFB3kfoQH9eDkdSNZsptpLvkY0xWgoWUJce4MvNORIBXOS%2BqyVIK3gaUtK%2FGp6TDftYaU37mwKHvP4loCFsiR%2BHOGd2TQYDNcVZG9dk5ieuaY0iiJ%2F1VE9nvIyIOpj0xmozlOahxZsf1TqQJ0b1uhENgYQ6vxldbCOjqKbN8PPU%2BA%3D%3D',\n",
        "    'https://storage.googleapis.com/kaggle-competitions-detached-data/16880/dfdc_train_part_25.zip?GoogleAccessId=web-data@kaggle-161607.iam.gserviceaccount.com&Expires=1679572703&Signature=smJv90POP9VjdLqh1xb%2B9YQ9c7yyzml%2BqkeLCLQE%2FyhYywSuSdfVsZYKXL6enr%2FICPSXa586%2BH%2FKbBE%2FqUR2SwzhFy5pMmKhZFEijuID6AdbqIv%2FtEmQqOkDMjH1RBSsZjoJBaEuaGGKEPwmxFycmWdBv8i2gKLb9sugzCeE1ti2Gm0kp3p2%2BfNUWKBGyHmY71rXL52Ii0HyCcYB9VJz8pajd1%2F0YcjriYOKx1l9xHm4cAYWfvas8loaEl4UWbaiVi1D011IP%2F%2BgwkE5y2WWgzs2Jnkn5exHb5EMsxXMjPrzFVXgnjmTbaUqTAR7wjCUNoxK%2FeBX9X0uUCgA%2FxCuaA%3D%3D',\n",
        "    'https://storage.googleapis.com/kaggle-competitions-detached-data/16880/dfdc_train_part_26.zip?GoogleAccessId=web-data@kaggle-161607.iam.gserviceaccount.com&Expires=1679572723&Signature=FU%2Frcdy6rbHy9C6ruwrXciFYSR%2FJMScQ0Ya0yD20xxNkN%2Fc41OUo5oQnkrYYpgTT2WoQpaQVEQKB7MMfX2B3uZLCghLFcIXjdI3evyqHvN1eAziDcFJ4zUAYYXKHJ4sVC869bcsQJxk5nK5rLzPrH%2FCuXaYCpDmrs6ednhqR%2BEcqqreok6ju7CsS6PgeDekKhkP1mDy1Sbgl9aYOJNFyL4nzNuBIPWJzFjkzk4HQBPM4PwUGzfwY3l1Yg0mlDvoTIMur1z%2FzwVeXZ74CqGNnouf7uFn5VLel3ryvc6TqyAuciERttDj833MTyHWh9idciO7ucZJK8ZFUIiUW0dj%2BGA%3D%3D',\n",
        "    'https://storage.googleapis.com/kaggle-competitions-detached-data/16880/dfdc_train_part_27.zip?GoogleAccessId=web-data@kaggle-161607.iam.gserviceaccount.com&Expires=1679572740&Signature=d%2BL5QLY5XonYPi7khIfaPKfnlM0azTxSDdRbbF24b49QBxsmzX%2B8Z8pTPDCQhkpTH8JAHTkxa7yNRFJXXAUYfs0MTxmLpbj03nb1t8WW6KORKTJGCDK%2Bq3UVfMRSjdcLXB6J2jB2kL%2BV4pYuVpDFZF22M2obm0%2BZ%2BqEVvxy1L7zR6vMJAo5heVKlaDoJU0juXSmd3qAxGyatywDs50b4wPyHQWAUoZ%2BjXaIBogsiNqxToxdxqBcUZI4FLhYSmVO6JXSAiTmEBa6aFy6e0WfKKKsbB9Jd02EJHlpgwZ1KJJcenTQvYeX7SN2UQ%2BSkEGEYr5yc92uqVu44wGRFC47mOA%3D%3D',\n",
        "    'https://storage.googleapis.com/kaggle-competitions-detached-data/16880/dfdc_train_part_28.zip?GoogleAccessId=web-data@kaggle-161607.iam.gserviceaccount.com&Expires=1679572762&Signature=qojpGGfqiQYcISE4PeuGgRrI88uFrhwawOsB5oeEnfDuOBbzLIjrHiO1v4Qg2JKkr96cUmEBCcOd31NYyo7GtsAcmh1ONRVGvWU7jk3tRNX0gmyQY2zCpY8yoX%2BvKdR90fuhYmm0phqDHrvtm2ImyVvBMYXufRrXVtUburmEbRqEYF7l154HjqsOVBg51hqUyepJUImytyU%2BUfz%2BZ0F0lv%2BtPOypUAxJ5Iw4%2FOWL6c7mRfa2CTXtrcQcotXXDvoNotW86P7hlov7ZBmuWN8L6SYUfE7mcnplQmqJIADbnxi6W4xipFc5af6Nckwf24WcCMAzvyG24ddj81SYbyXJ5Q%3D%3D',\n",
        "    'https://storage.googleapis.com/kaggle-competitions-detached-data/16880/dfdc_train_part_29.zip?GoogleAccessId=web-data@kaggle-161607.iam.gserviceaccount.com&Expires=1679572785&Signature=hM%2FuhR6Gs6dSFvRzNPLUZbbqS0LELgy8fKbyBseXs5LMOOvU0M8skOmgrjS0BkrzuFwhUiL%2Fsk1YIBZtCA3mcKZrVIEL8TzwuG6ERf6IRk02QQTbB1HLueZjhBiRqT0rQwe9svaa9wW2v6TDMNiizZOpfjrkTtWlTqcBuZREMF2NF5xT5hpfOAp1Rzx57Itrv0%2FNhP7ftMefDphJKki0XwjK%2B03IqCdH%2BKtcS0Juy6rScNYWPadyap4%2BLXoTx%2FblPwMvu%2F4YrIc8LyA8IhR6PIvlGdB74UVoOsyJf3vTs8IVWRaNE4Va9Im1rFEaUevK3zfaiE%2FouWcV1Upk1G6yfQ%3D%3D',\n",
        "    'https://storage.googleapis.com/kaggle-competitions-detached-data/16880/dfdc_train_part_30.zip?GoogleAccessId=web-data@kaggle-161607.iam.gserviceaccount.com&Expires=1679572801&Signature=krzQjzepFQwSi25oH4jSJLXx%2BEuh5EPFRR0W63ZHliYuriN%2BBJ6KUat1VRL0uknuu2vyNXUFt469AwYXoAsP8rWBmSALHrgNsM8Nwh8cvg2%2F3OX9Ziv7U9FBJVvG2UusXkHQ57Kj7XiODRfLRZiIEWfXFJof86%2B%2BGfovFIEZEa5AjfdbHPYAV9ftj8nnp1ZgQaZHJsGPTEPK9jfZ3vdR9YZ%2FVkrxbHPCeEmXWszvHAVbpwcxr3G%2FgLYBFbSEIPDmwvjYzAE2NRejTxECGGRnhuGnxHwtro8L4A0QvzKmMR42gnwUuqx9t4HVqMk4USNeDp2oDpLJLPTWzjkcbcHNgA%3D%3D',\n",
        "    'https://storage.googleapis.com/kaggle-competitions-detached-data/16880/dfdc_train_part_31.zip?GoogleAccessId=web-data@kaggle-161607.iam.gserviceaccount.com&Expires=1679572819&Signature=an1SNNy%2FeRYDWkZkXwxRutqZ944Z%2FEFMOBV%2BOYlMrsXmew1GBbzkcAQ4EoQBIec%2FDNfIfWbAa5bUpbB4e77%2BUSxLHXrHZ3kX5fsA%2FLuCF9goQfWkl%2FSNIJKdmtfHSbmuR53bO8LLKaKrX1VlHbjjpkc25W80Cho4az9MNKvM5DAfKOtTh3qjIHAPOWp3Yab7PdfyMqm21qldwoOvR4%2BywLxYVIF6CnwKSONyBNelmMy9ws7aj4n5dgSlmJNIajFP5nsn%2Bh2zsOOKvtTfoAYVE%2F6nQsW0WATE0DV7rnSO1kPkiVgavueIOUo3qoz3gZkVNy%2BqMJfSPRXPd9%2FiPeQ%2FfQ%3D%3D'\n",
        "    ]"
      ],
      "metadata": {
        "id": "Tg5iOZawyTce"
      },
      "execution_count": null,
      "outputs": []
    },
    {
      "cell_type": "code",
      "source": [
        "#Donwload each part and save it in the files\n",
        "for ind , part in enumerate(parts):\n",
        "    response = requests.get(part, stream=True)\n",
        "    with open(f'{ind}.zip', \"wb\") as f:\n",
        "        for chunk in response.iter_content(chunk_size=1024):\n",
        "            if chunk:  # filter out keep-alive new chunks\n",
        "                f.write(chunk)"
      ],
      "metadata": {
        "id": "L68ybrhu3ovv"
      },
      "execution_count": null,
      "outputs": []
    },
    {
      "cell_type": "code",
      "source": [
        "#Extract the files from the downloaded parts then delet each part after extracing to save storage\n",
        "for ind in range(len(parts)):\n",
        "    f = f\"/content/{ind}.zip\"\n",
        "    with zipfile.ZipFile(f, 'r') as zip_ref:\n",
        "        zip_ref.extractall(\"/content/data\")\n",
        "    os.remove(f)"
      ],
      "metadata": {
        "id": "zh7jjJEe3-dY"
      },
      "execution_count": null,
      "outputs": []
    },
    {
      "cell_type": "code",
      "execution_count": null,
      "metadata": {
        "id": "Rh7lFeJDrApu"
      },
      "outputs": [],
      "source": [
        "class FastMTCNN(object):\n",
        "    \"\"\"Fast MTCNN implementation.\"\"\"\n",
        "\n",
        "    def __init__(self, stride, resize=1, *args, **kwargs):\n",
        "        \"\"\"Constructor for FastMTCNN class.\n",
        "\n",
        "        Arguments:\n",
        "            stride (int): The detection stride. Faces will be detected every `stride` frames\n",
        "                and remembered for `stride-1` frames.\n",
        "\n",
        "        Keyword arguments:\n",
        "            resize (float): Fractional frame scaling. [default: {1}]\n",
        "            *args: Arguments to pass to the MTCNN constructor. See help(MTCNN).\n",
        "            **kwargs: Keyword arguments to pass to the MTCNN constructor. See help(MTCNN).\n",
        "        \"\"\"\n",
        "        self.stride = stride\n",
        "        self.resize = resize\n",
        "        self.mtcnn = MTCNN(*args, **kwargs)\n",
        "\n",
        "    def __call__(self, frames):\n",
        "        \"\"\"Detect faces in frames using strided MTCNN.\"\"\"\n",
        "        if self.resize != 1:\n",
        "            frames = [\n",
        "                cv2.resize(f, (int(f.shape[1] * self.resize), int(f.shape[0] * self.resize)))\n",
        "                    for f in frames\n",
        "            ]\n",
        "\n",
        "        boxes, probs = self.mtcnn.detect(frames[::self.stride])\n",
        "        faces = []\n",
        "        for i, frame in enumerate(frames):\n",
        "            box_ind = int(i / self.stride)\n",
        "            if boxes[box_ind] is None:\n",
        "                continue\n",
        "            for box in boxes[box_ind]:\n",
        "                box = [int(b) for b in box]\n",
        "                faces.append(frame[box[1]:box[3], box[0]:box[2]])\n",
        "        return faces"
      ]
    },
    {
      "cell_type": "code",
      "execution_count": null,
      "metadata": {
        "id": "V4K8ulo3sJt-"
      },
      "outputs": [],
      "source": [
        "device = 'cuda' if torch.cuda.is_available() else 'cpu'\n",
        "fast_mtcnn = FastMTCNN(\n",
        "stride=4,\n",
        "resize=0.5,\n",
        "margin=50,\n",
        "factor=0.6,\n",
        "keep_all=True,\n",
        "device=device,\n",
        "min_face_size = 60\n",
        ")"
      ]
    },
    {
      "cell_type": "code",
      "execution_count": null,
      "metadata": {
        "id": "IEKSXV4fsZeX"
      },
      "outputs": [],
      "source": [
        "def save_vid(frame_array,filename):\n",
        "    if len(frame_array) < 60:\n",
        "        pass\n",
        "    frames = 0\n",
        "    fourcc = cv2.VideoWriter_fourcc('m', 'p', '4', 'v')\n",
        "    out = cv2.VideoWriter('/content/train/'+os.path.basename(filename),fourcc, 60, (240,240))\n",
        "    for frame in frame_array:\n",
        "        try:\n",
        "            frame = cv2.cvtColor(frame, cv2.COLOR_RGB2BGR)\n",
        "            frame = cv2.resize(frame,(240,240))\n",
        "            out.write(frame)\n",
        "            frames +=1\n",
        "        except:\n",
        "            pass\n",
        "        if frames == 60:\n",
        "            out.release()\n",
        "            break"
      ]
    },
    {
      "cell_type": "code",
      "execution_count": null,
      "metadata": {
        "id": "j0CH7KXUtZ59"
      },
      "outputs": [],
      "source": [
        "def run_detection(fast_mtcnn, filenames):\n",
        "    frames = []\n",
        "    frames_processed = 0\n",
        "    faces_detected = 0\n",
        "    batch_size = 60\n",
        "    start = time.time()\n",
        "    for filename in tqdm(filenames):\n",
        "        v_cap = FileVideoStream(filename).start()\n",
        "       # print(filename)\n",
        "        #print(v_cap.read().shape)\n",
        "        v_len = int(v_cap.stream.get(cv2.CAP_PROP_FRAME_COUNT))\n",
        "        for j in range(min(60,v_len)):\n",
        "            frame = v_cap.read()\n",
        "            frame = cv2.cvtColor(frame, cv2.COLOR_BGR2RGB)\n",
        "            frames.append(frame)\n",
        "            if len(frames) >= batch_size or j == v_len - 1:\n",
        "                faces = fast_mtcnn(frames)\n",
        "                frames_processed += len(frames)\n",
        "                faces_detected += len(faces)\n",
        "                frames = []\n",
        "                print(\n",
        "                    f'Frames per second: {frames_processed / (time.time() - start):.3f},',\n",
        "                    f'faces detected: {faces_detected}\\r',\n",
        "                    end=''\n",
        "                )\n",
        "                save_vid(faces,filename)\n",
        "\n",
        "        v_cap.stop()"
      ]
    },
    {
      "cell_type": "code",
      "execution_count": null,
      "metadata": {
        "id": "uvhxjxQdoUsJ"
      },
      "outputs": [],
      "source": [
        "f = glob.glob('/content/data/*/*')"
      ]
    },
    {
      "cell_type": "code",
      "source": [
        "len(f)"
      ],
      "metadata": {
        "colab": {
          "base_uri": "https://localhost:8080/"
        },
        "id": "XxCAPmhxV9DI",
        "outputId": "5b0e0594-5af9-4c9f-9516-0d24af802a88"
      },
      "execution_count": null,
      "outputs": [
        {
          "output_type": "execute_result",
          "data": {
            "text/plain": [
              "10122"
            ]
          },
          "metadata": {},
          "execution_count": 12
        }
      ]
    },
    {
      "cell_type": "code",
      "source": [
        "run_detection(fast_mtcnn,f)"
      ],
      "metadata": {
        "colab": {
          "base_uri": "https://localhost:8080/",
          "height": 214,
          "referenced_widgets": [
            "91b6eede95444c17af9e9db77df663a3",
            "2f57edff6169453db507ec756333e99c",
            "bf56ddbf199147beae8d2d6a19b7e287",
            "dc564af2483a4f9289732b1025588a15",
            "779597dc435d48438e39e4e7786ce16d",
            "b2df1948d2314fb087800a64a8ae7a38",
            "8306a5fd7fb34bc8aed354cc4794e055",
            "337bd45c1e784eea894ab1915908c811",
            "92fd1a0aa5ca4ad7abd085fb6744a7a6",
            "01c32110879e4dc4b809205f0bb70d77",
            "55b253201d924157a2ddf4a7323014af"
          ]
        },
        "id": "G4-YIOtd6mLN",
        "outputId": "e9eb2f7a-9622-4391-a4e9-77493599f126"
      },
      "execution_count": null,
      "outputs": [
        {
          "output_type": "display_data",
          "data": {
            "text/plain": [
              "  0%|          | 0/10122 [00:00<?, ?it/s]"
            ],
            "application/vnd.jupyter.widget-view+json": {
              "version_major": 2,
              "version_minor": 0,
              "model_id": "91b6eede95444c17af9e9db77df663a3"
            }
          },
          "metadata": {}
        },
        {
          "output_type": "stream",
          "name": "stderr",
          "text": [
            "/usr/local/lib/python3.9/dist-packages/facenet_pytorch/models/utils/detect_face.py:183: VisibleDeprecationWarning: Creating an ndarray from ragged nested sequences (which is a list-or-tuple of lists-or-tuples-or ndarrays with different lengths or shapes) is deprecated. If you meant to do this, you must specify 'dtype=object' when creating the ndarray.\n",
            "  batch_boxes, batch_points = np.array(batch_boxes), np.array(batch_points)\n",
            "/usr/local/lib/python3.9/dist-packages/facenet_pytorch/models/mtcnn.py:339: VisibleDeprecationWarning: Creating an ndarray from ragged nested sequences (which is a list-or-tuple of lists-or-tuples-or ndarrays with different lengths or shapes) is deprecated. If you meant to do this, you must specify 'dtype=object' when creating the ndarray.\n",
            "  boxes = np.array(boxes)\n",
            "/usr/local/lib/python3.9/dist-packages/facenet_pytorch/models/mtcnn.py:341: VisibleDeprecationWarning: Creating an ndarray from ragged nested sequences (which is a list-or-tuple of lists-or-tuples-or ndarrays with different lengths or shapes) is deprecated. If you meant to do this, you must specify 'dtype=object' when creating the ndarray.\n",
            "  points = np.array(points)\n"
          ]
        },
        {
          "output_type": "stream",
          "name": "stdout",
          "text": []
        },
        {
          "output_type": "stream",
          "name": "stderr",
          "text": [
            "/usr/local/lib/python3.9/dist-packages/facenet_pytorch/models/mtcnn.py:340: VisibleDeprecationWarning: Creating an ndarray from ragged nested sequences (which is a list-or-tuple of lists-or-tuples-or ndarrays with different lengths or shapes) is deprecated. If you meant to do this, you must specify 'dtype=object' when creating the ndarray.\n",
            "  probs = np.array(probs)\n"
          ]
        },
        {
          "output_type": "stream",
          "name": "stdout",
          "text": []
        }
      ]
    },
    {
      "cell_type": "code",
      "source": [
        "shutil.make_archive('/content/cropped0', 'zip', '/content/train/')"
      ],
      "metadata": {
        "id": "PsvzOb8_ykN-"
      },
      "execution_count": null,
      "outputs": []
    },
    {
      "cell_type": "code",
      "source": [
        "shutil.copy(\"/content/cropped0.zip\", \"/content/drive/MyDrive\")"
      ],
      "metadata": {
        "id": "V9TecAfRzYeu"
      },
      "execution_count": null,
      "outputs": []
    },
    {
      "cell_type": "code",
      "source": [],
      "metadata": {
        "id": "H67bD2YU_5n3"
      },
      "execution_count": null,
      "outputs": []
    },
    {
      "cell_type": "code",
      "source": [],
      "metadata": {
        "id": "f-thVunDh9Zb"
      },
      "execution_count": null,
      "outputs": []
    },
    {
      "cell_type": "code",
      "source": [],
      "metadata": {
        "id": "DyJJ_GALh9rQ"
      },
      "execution_count": null,
      "outputs": []
    }
  ]
}